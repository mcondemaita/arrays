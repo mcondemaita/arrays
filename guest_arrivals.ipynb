{
  "metadata": {
    "kernelspec": {
      "name": "python",
      "display_name": "Python (Pyodide)",
      "language": "python"
    },
    "language_info": {
      "codemirror_mode": {
        "name": "python",
        "version": 3
      },
      "file_extension": ".py",
      "mimetype": "text/x-python",
      "name": "python",
      "nbconvert_exporter": "python",
      "pygments_lexer": "ipython3",
      "version": "3.8"
    }
  },
  "nbformat_minor": 4,
  "nbformat": 4,
  "cells": [
    {
      "cell_type": "code",
      "source": "# list using range() for arrival of every 5min starting from 10-50\narrival_time = [*range(10,60,5)]\nprint(arrival_time)",
      "metadata": {
        "trusted": true
      },
      "outputs": [
        {
          "name": "stdout",
          "text": "[10, 15, 20, 25, 30, 35, 40, 45, 50, 55]\n",
          "output_type": "stream"
        }
      ],
      "execution_count": 1
    },
    {
      "cell_type": "code",
      "source": "#for efficiency np in 2D data, with range(), and reducing -3 of the np \nimport numpy as np\narrival_time_np = np.array(range(10,60,10))\narrival_time = arrival_time_np - 3\narrival_time",
      "metadata": {
        "trusted": true
      },
      "outputs": [
        {
          "execution_count": 18,
          "output_type": "execute_result",
          "data": {
            "text/plain": "array([ 7, 17, 27, 37, 47])"
          },
          "metadata": {}
        }
      ],
      "execution_count": 18
    },
    {
      "cell_type": "code",
      "source": "# Use list comprehension enumerate(), to pair with guest names list \nnames = ['Maria', 'Fernanda', 'Luz', 'Cesar', 'Pato']\n\nguest_arrivals = [(names[i],time) for i, time in enumerate(arrival_time)]\nguest_arrivals",
      "metadata": {
        "trusted": true
      },
      "outputs": [
        {
          "execution_count": 19,
          "output_type": "execute_result",
          "data": {
            "text/plain": "[('Maria', 7), ('Fernanda', 17), ('Luz', 27), ('Cesar', 37), ('Pato', 47)]"
          },
          "metadata": {}
        }
      ],
      "execution_count": 19
    },
    {
      "cell_type": "code",
      "source": "",
      "metadata": {
        "trusted": true
      },
      "outputs": [],
      "execution_count": null
    }
  ]
}